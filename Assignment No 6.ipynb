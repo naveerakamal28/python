{
 "cells": [
  {
   "cell_type": "code",
   "execution_count": 1,
   "metadata": {},
   "outputs": [
    {
     "name": "stdout",
     "output_type": "stream",
     "text": [
      "ENGINE STARTED\n",
      "ENGINE STOPPED\n",
      "MAX SPEED IS:20km/hr\n",
      "2018\n",
      "19lac\n"
     ]
    }
   ],
   "source": [
    "class car():\n",
    "    def __init__(self,model,color,name, speed,prize):\n",
    "        self.model=model\n",
    "        self.color=color\n",
    "        self.name=name\n",
    "        self.speed=speed\n",
    "        self.prize=prize\n",
    "        \n",
    "    def start(self):\n",
    "        print(\"ENGINE STARTED\")\n",
    "            \n",
    "    def stop(self):\n",
    "        print(\"ENGINE STOPPED\")\n",
    "        \n",
    "    def maxspeed(self):\n",
    "        print(\"MAX SPEED IS:\"+ self.speed)\n",
    "\n",
    "c1=car(2018,\"Black\",\"g545\",\"20km/hr\",\"19lac\")\n",
    "c1.start()\n",
    "c1.stop()\n",
    "c1.maxspeed()\n",
    "print(c1.model)\n",
    "print(c1.prize)"
   ]
  },
  {
   "cell_type": "code",
   "execution_count": null,
   "metadata": {},
   "outputs": [],
   "source": []
  }
 ],
 "metadata": {
  "kernelspec": {
   "display_name": "Python 3",
   "language": "python",
   "name": "python3"
  },
  "language_info": {
   "codemirror_mode": {
    "name": "ipython",
    "version": 3
   },
   "file_extension": ".py",
   "mimetype": "text/x-python",
   "name": "python",
   "nbconvert_exporter": "python",
   "pygments_lexer": "ipython3",
   "version": "3.7.4"
  }
 },
 "nbformat": 4,
 "nbformat_minor": 2
}
