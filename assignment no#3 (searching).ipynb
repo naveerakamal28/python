{
 "cells": [
  {
   "cell_type": "code",
   "execution_count": 1,
   "metadata": {},
   "outputs": [
    {
     "name": "stdout",
     "output_type": "stream",
     "text": [
      "Enter the keyabc\n",
      "Key status for search: True\n"
     ]
    }
   ],
   "source": [
    "#Searching\n",
    "dict1 = {\"abc\":\"xyz\",\"rst\":123,\"1\":\"two\",\"2\":3,\"xyz\":\"abc\"}\n",
    "check = False\n",
    "keyToSearch=input(\"Enter the key\")\n",
    "for key in dict1.keys():\n",
    "    if key == keyToSearch:\n",
    "        check = True\n",
    "        break\n",
    "print(\"Key status for search: \" + str(check))"
   ]
  },
  {
   "cell_type": "code",
   "execution_count": 2,
   "metadata": {},
   "outputs": [
    {
     "data": {
      "text/plain": [
       "()"
      ]
     },
     "execution_count": 2,
     "metadata": {},
     "output_type": "execute_result"
    }
   ],
   "source": []
  },
  {
   "cell_type": "code",
   "execution_count": null,
   "metadata": {},
   "outputs": [],
   "source": []
  }
 ],
 "metadata": {
  "kernelspec": {
   "display_name": "Python 3",
   "language": "python",
   "name": "python3"
  },
  "language_info": {
   "codemirror_mode": {
    "name": "ipython",
    "version": 3
   },
   "file_extension": ".py",
   "mimetype": "text/x-python",
   "name": "python",
   "nbconvert_exporter": "python",
   "pygments_lexer": "ipython3",
   "version": "3.7.4"
  }
 },
 "nbformat": 4,
 "nbformat_minor": 2
}
