{
 "cells": [
  {
   "cell_type": "code",
   "execution_count": 1,
   "metadata": {},
   "outputs": [
    {
     "name": "stdout",
     "output_type": "stream",
     "text": [
      "{'firstname': 'Naveera', 'lastname': 'Kamal', 'age': 19, 'city': 'Karachi'}\n",
      "{'firstname': 'Naveera', 'lastname': 'Kamal', 'age': 19, 'city': 'Karachi', 'qualification': 'Intermediate'}\n",
      "{'firstname': 'Naveera', 'lastname': 'Kamal', 'age': 19, 'city': 'Karachi', 'qualification': 'HIGH ACADEMIC'}\n",
      "{'firstname': 'Naveera', 'lastname': 'Kamal', 'age': 19, 'city': 'Karachi'}\n"
     ]
    }
   ],
   "source": [
    "#QUESTION NO 1\n",
    "DETAILS={\"firstname\": \"Naveera\", \"lastname\": \"Kamal\" , \"age\":  19 , \"city\":\"Karachi\"}\n",
    "print(DETAILS)\n",
    "DETAILS[\"qualification\"]=\"Intermediate\"\n",
    "print(DETAILS)\n",
    "DETAILS[\"qualification\"]=\"HIGH ACADEMIC\"\n",
    "print(DETAILS)\n",
    "del DETAILS[\"qualification\"]\n",
    "print(DETAILS)"
   ]
  },
  {
   "cell_type": "code",
   "execution_count": 2,
   "metadata": {},
   "outputs": [
    {
     "name": "stdout",
     "output_type": "stream",
     "text": [
      "[{'city': 'karachi', 'country': 'Pakistan', 'population': 197, 'fact': 'City Of Lights.'}, {'city': 'Berlin', 'country': 'Germany', 'population': 82.79, 'fact': 'There are over 2100 castles in Germany.'}, {'city': 'Makkah', 'country': 'saudiaArab', 'population': 32.94, 'fact': 'Saudi Arabia has two of the biggest mosques in Makkah and Madinah.'}]\n"
     ]
    }
   ],
   "source": [
    "#QUESTION NO 2\n",
    "cities=[\n",
    "    {\n",
    "        \"city\":\"karachi\",\n",
    "        \"country\":\"Pakistan\",\n",
    "        \"population\":197,\n",
    "        \"fact\":\"City Of Lights.\",\n",
    "    },\n",
    "    {\n",
    "        \"city\":\"Berlin\",\n",
    "        \"country\":\"Germany\",\n",
    "        \"population\":82.79,\n",
    "        \"fact\":\"There are over 2100 castles in Germany.\",\n",
    "    },\n",
    "    {\n",
    "        \"city\":\"Makkah\",\n",
    "        \"country\":\"saudiaArab\",\n",
    "        \"population\":32.94,\n",
    "        \"fact\":\"Saudi Arabia has two of the biggest mosques in Makkah and Madinah.\",\n",
    "    },\n",
    "]\n",
    "print(cities)"
   ]
  },
  {
   "cell_type": "code",
   "execution_count": 3,
   "metadata": {},
   "outputs": [
    {
     "name": "stdout",
     "output_type": "stream",
     "text": [
      "How old are you?\n",
      "Enter 'quit' when you are finished. 10\n",
      "  Your ticket is $10.\n",
      "How old are you?\n",
      "Enter 'quit' when you are finished. 5 \n",
      "  Your ticket is $10.\n",
      "How old are you?\n",
      "Enter 'quit' when you are finished. 13\n",
      "  Your ticket is $15.\n",
      "How old are you?\n",
      "Enter 'quit' when you are finished. quit\n"
     ]
    }
   ],
   "source": [
    "#QUESTION NO 3\n",
    "prompt = \"How old are you?\"\n",
    "prompt += \"\\nEnter 'quit' when you are finished. \"\n",
    "\n",
    "while True:\n",
    "    age = input(prompt)\n",
    "    if age == 'quit':\n",
    "        break\n",
    "    age = int(age)\n",
    "\n",
    "    if age < 3:\n",
    "        print(\"  You get in free!\")\n",
    "    elif age < 13:\n",
    "        print(\"  Your ticket is $10.\")\n",
    "    else:\n",
    "\n",
    "        print(\"  Your ticket is $15.\")"
   ]
  },
  {
   "cell_type": "code",
   "execution_count": 4,
   "metadata": {},
   "outputs": [
    {
     "name": "stdout",
     "output_type": "stream",
     "text": [
      "I'm thinking of a number between 1 and 10\n",
      "Try to guess the number: 5\n",
      "I'm thinking of a number between 1 and 10\n",
      "Try to guess the number: 5\n",
      "I'm thinking of a number between 1 and 10\n",
      "Try to guess the number: 10\n",
      "You got it\n"
     ]
    }
   ],
   "source": [
    "#Question No 4\n",
    "import random\n",
    "\n",
    "while True:\n",
    "    print(\"I'm thinking of a number between 1 and 10\")\n",
    "    randNum = random.randrange(1, 11)\n",
    "    guess = int(input(\"Try to guess the number: \"))\n",
    "    if guess == randNum:\n",
    "        print(\"You got it\")\n",
    "        break\n",
    "    else:\n",
    "        if guess > 10:\n",
    "            print(\"Wrong! You guessed too high\")\n",
    "        elif guess < 1:\n",
    "            print(\"Wrong! You guessed too low\")"
   ]
  },
  {
   "cell_type": "code",
   "execution_count": null,
   "metadata": {},
   "outputs": [],
   "source": []
  }
 ],
 "metadata": {
  "kernelspec": {
   "display_name": "Python 3",
   "language": "python",
   "name": "python3"
  },
  "language_info": {
   "codemirror_mode": {
    "name": "ipython",
    "version": 3
   },
   "file_extension": ".py",
   "mimetype": "text/x-python",
   "name": "python",
   "nbconvert_exporter": "python",
   "pygments_lexer": "ipython3",
   "version": "3.7.4"
  }
 },
 "nbformat": 4,
 "nbformat_minor": 2
}
