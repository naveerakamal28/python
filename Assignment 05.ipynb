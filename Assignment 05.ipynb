{
 "cells": [
  {
   "cell_type": "code",
   "execution_count": 1,
   "metadata": {},
   "outputs": [
    {
     "name": "stdout",
     "output_type": "stream",
     "text": [
      "ENTER THE VALUE:7\n",
      "The factorial of 7 is 5040\n"
     ]
    }
   ],
   "source": [
    "#question no 1\n",
    "num=int(input(\"ENTER THE VALUE:\"))\n",
    "factorial=1\n",
    "if num < 0:\n",
    "   print(\"Sorry, factorial does not exist for negative numbers\")\n",
    "elif num == 0:\n",
    "   print(\"The factorial of 0 is 1\")\n",
    "else:\n",
    "   for i in range(1,num + 1):\n",
    "       factorial = factorial*i\n",
    "   print(\"The factorial of\",num,\"is\",factorial)"
   ]
  },
  {
   "cell_type": "code",
   "execution_count": 2,
   "metadata": {},
   "outputs": [
    {
     "name": "stdout",
     "output_type": "stream",
     "text": [
      "Enter string:Safa\n",
      "The number of lowercase characters is:\n",
      "3\n",
      "The number of uppercase characters is:\n",
      "1\n"
     ]
    }
   ],
   "source": [
    "#question no 2\n",
    "string=input(\"Enter string:\")\n",
    "countlower=0\n",
    "countupper=0\n",
    "for i in string:\n",
    "      if(i.islower()):\n",
    "            countlower=countlower+1\n",
    "      elif(i.isupper()):\n",
    "            countupper=countupper+1\n",
    "print(\"The number of lowercase characters is:\")\n",
    "print(countlower)\n",
    "print(\"The number of uppercase characters is:\")\n",
    "print(countupper)"
   ]
  },
  {
   "cell_type": "code",
   "execution_count": 3,
   "metadata": {},
   "outputs": [
    {
     "name": "stdout",
     "output_type": "stream",
     "text": [
      "1 4 22 "
     ]
    }
   ],
   "source": [
    "#question no 3\n",
    "list1 = [1, 2, 4, 48, 22, 88] \n",
    "num = 0         \n",
    "while(num < len(list1)):  \n",
    "    if num % 2 == 0: \n",
    "       print(list1[num], end = \" \")\n",
    "    num += 1"
   ]
  },
  {
   "cell_type": "code",
   "execution_count": 4,
   "metadata": {},
   "outputs": [
    {
     "name": "stdout",
     "output_type": "stream",
     "text": [
      "Bisma\n",
      "No\n"
     ]
    }
   ],
   "source": [
    "#question no 4\n",
    "def isPalindrome(s): \n",
    "    rev = ''.join(reversed(s)) \n",
    "    if (s == rev): \n",
    "        return True\n",
    "    return False\n",
    "s = input()\n",
    "ans = isPalindrome(s) \n",
    "  \n",
    "if (ans): \n",
    "    print(\"Yes\") \n",
    "else: \n",
    "    print(\"No\")"
   ]
  },
  {
   "cell_type": "code",
   "execution_count": 5,
   "metadata": {},
   "outputs": [
    {
     "name": "stdout",
     "output_type": "stream",
     "text": [
      "true\n",
      "false\n"
     ]
    }
   ],
   "source": [
    "#question no 5\n",
    "\n",
    "def isPrime(n): \n",
    "\n",
    "    if n <= 1: \n",
    "        return False\n",
    "    for i in range(2, n): \n",
    "        if n % i == 0: \n",
    "            return False; \n",
    "\n",
    "    return True\n",
    " \n",
    "print(\"true\") if isPrime(11) else print(\"false\") \n",
    "print(\"true\") if isPrime(14) else print(\"false\")"
   ]
  },
  {
   "cell_type": "code",
   "execution_count": 7,
   "metadata": {},
   "outputs": [
    {
     "name": "stdout",
     "output_type": "stream",
     "text": [
      "1.ADD\n",
      "2.EXIT\n",
      "Enter your choice : 1\n",
      "Enter product name : laptop\n",
      "1.ADD\n",
      "2.EXIT\n",
      "Enter your choice : 5\n",
      "Enter product name : Laptop\n",
      "1.ADD\n",
      "2.EXIT\n",
      "Enter your choice : laptop\n"
     ]
    },
    {
     "ename": "ValueError",
     "evalue": "invalid literal for int() with base 10: 'laptop'",
     "output_type": "error",
     "traceback": [
      "\u001b[1;31m---------------------------------------------------------------------------\u001b[0m",
      "\u001b[1;31mValueError\u001b[0m                                Traceback (most recent call last)",
      "\u001b[1;32m<ipython-input-7-8539be5f7d81>\u001b[0m in \u001b[0;36m<module>\u001b[1;34m\u001b[0m\n\u001b[0;32m      6\u001b[0m \u001b[0mp\u001b[0m \u001b[1;33m=\u001b[0m \u001b[0mb\u001b[0m\u001b[1;33m[\u001b[0m\u001b[1;36m2\u001b[0m\u001b[1;33m]\u001b[0m\u001b[1;33m\u001b[0m\u001b[1;33m\u001b[0m\u001b[0m\n\u001b[0;32m      7\u001b[0m \u001b[1;32mwhile\u001b[0m \u001b[1;32mTrue\u001b[0m\u001b[1;33m:\u001b[0m\u001b[1;33m\u001b[0m\u001b[1;33m\u001b[0m\u001b[0m\n\u001b[1;32m----> 8\u001b[1;33m         \u001b[0mch\u001b[0m \u001b[1;33m=\u001b[0m \u001b[0mint\u001b[0m\u001b[1;33m(\u001b[0m\u001b[0minput\u001b[0m\u001b[1;33m(\u001b[0m\u001b[1;34m\"1.ADD\\n2.EXIT\\nEnter your choice : \"\u001b[0m\u001b[1;33m)\u001b[0m\u001b[1;33m)\u001b[0m\u001b[1;33m\u001b[0m\u001b[1;33m\u001b[0m\u001b[0m\n\u001b[0m\u001b[0;32m      9\u001b[0m         \u001b[0mpn\u001b[0m \u001b[1;33m=\u001b[0m \u001b[0minput\u001b[0m\u001b[1;33m(\u001b[0m\u001b[1;34m\"Enter product name : \"\u001b[0m\u001b[1;33m)\u001b[0m\u001b[1;33m\u001b[0m\u001b[1;33m\u001b[0m\u001b[0m\n\u001b[0;32m     10\u001b[0m \u001b[0mq\u001b[0m \u001b[1;33m=\u001b[0m \u001b[0minput\u001b[0m\u001b[1;33m(\u001b[0m\u001b[1;34m\"Enter quantity : \"\u001b[0m\u001b[1;33m)\u001b[0m\u001b[1;33m\u001b[0m\u001b[1;33m\u001b[0m\u001b[0m\n",
      "\u001b[1;31mValueError\u001b[0m: invalid literal for int() with base 10: 'laptop'"
     ]
    }
   ],
   "source": [
    "\n",
    "#question no 6\n",
    "a ={\"name\":[], \"quantity\":[], \"price\":[]} \n",
    "b = list(a.values())  \n",
    "n = b[0] \n",
    "q = b[1] \n",
    "p = b[2] \n",
    "while True:\n",
    "        ch = int(input(\"1.ADD\\n2.EXIT\\nEnter your choice : \")) \n",
    "        pn = input(\"Enter product name : \") \n",
    "q = input(\"Enter quantity : \")  \n",
    "p = float(input(\"Enter price of the product : \"))  \n",
    "na.append(pn)  \n",
    "qu.append(q) \n",
    "pr.append(p)\n",
    "print(\"\\n\\n\\nGROCERY LIST\") \n",
    "# print shopping list \n",
    "for i in range(len(na)):\n",
    "    print(na[i], qu[i], pr[i])"
   ]
  },
  {
   "cell_type": "code",
   "execution_count": null,
   "metadata": {},
   "outputs": [],
   "source": []
  }
 ],
 "metadata": {
  "kernelspec": {
   "display_name": "Python 3",
   "language": "python",
   "name": "python3"
  },
  "language_info": {
   "codemirror_mode": {
    "name": "ipython",
    "version": 3
   },
   "file_extension": ".py",
   "mimetype": "text/x-python",
   "name": "python",
   "nbconvert_exporter": "python",
   "pygments_lexer": "ipython3",
   "version": "3.7.4"
  }
 },
 "nbformat": 4,
 "nbformat_minor": 2
}
